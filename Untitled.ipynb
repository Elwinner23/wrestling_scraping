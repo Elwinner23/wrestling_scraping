{
 "cells": [
  {
   "cell_type": "code",
   "execution_count": 1,
   "id": "e288ca48",
   "metadata": {},
   "outputs": [],
   "source": [
    "import pandas as pd"
   ]
  },
  {
   "cell_type": "code",
   "execution_count": 2,
   "id": "c8531826",
   "metadata": {},
   "outputs": [],
   "source": [
    "data = pd.read_excel('data.xlsx')"
   ]
  },
  {
   "cell_type": "code",
   "execution_count": 3,
   "id": "9817ad53",
   "metadata": {},
   "outputs": [
    {
     "data": {
      "text/html": [
       "<div>\n",
       "<style scoped>\n",
       "    .dataframe tbody tr th:only-of-type {\n",
       "        vertical-align: middle;\n",
       "    }\n",
       "\n",
       "    .dataframe tbody tr th {\n",
       "        vertical-align: top;\n",
       "    }\n",
       "\n",
       "    .dataframe thead th {\n",
       "        text-align: right;\n",
       "    }\n",
       "</style>\n",
       "<table border=\"1\" class=\"dataframe\">\n",
       "  <thead>\n",
       "    <tr style=\"text-align: right;\">\n",
       "      <th></th>\n",
       "      <th>tournament_name</th>\n",
       "      <th>location</th>\n",
       "      <th>type</th>\n",
       "      <th>age</th>\n",
       "      <th>style</th>\n",
       "      <th>page_link</th>\n",
       "      <th>year</th>\n",
       "    </tr>\n",
       "  </thead>\n",
       "  <tbody>\n",
       "    <tr>\n",
       "      <th>0</th>\n",
       "      <td>Herman Kare</td>\n",
       "      <td>Kouvola, Finland</td>\n",
       "      <td>International Tournament</td>\n",
       "      <td>Seniors</td>\n",
       "      <td>GR</td>\n",
       "      <td>https://uww.org/event/herman-kare-1/news</td>\n",
       "      <td>2018</td>\n",
       "    </tr>\n",
       "    <tr>\n",
       "      <th>1</th>\n",
       "      <td>Ivan Poddubny</td>\n",
       "      <td>Krasnodar, Russia</td>\n",
       "      <td>International Tournament</td>\n",
       "      <td>Seniors</td>\n",
       "      <td>GR</td>\n",
       "      <td>https://uww.org/event/ivan-poddubny-1/results</td>\n",
       "      <td>2018</td>\n",
       "    </tr>\n",
       "    <tr>\n",
       "      <th>2</th>\n",
       "      <td>Takhti Cup</td>\n",
       "      <td>Mahshahr, Iran</td>\n",
       "      <td>Ranking Series</td>\n",
       "      <td>Seniors</td>\n",
       "      <td>GR</td>\n",
       "      <td>https://uww.org/event/takhti-cup-3/results</td>\n",
       "      <td>2018</td>\n",
       "    </tr>\n",
       "    <tr>\n",
       "      <th>3</th>\n",
       "      <td>Ivan Yariguin</td>\n",
       "      <td>Krasnoyarsk, Russia</td>\n",
       "      <td>Ranking Series</td>\n",
       "      <td>Seniors</td>\n",
       "      <td>FS, WW</td>\n",
       "      <td>https://uww.org/event/ivan-yariguin-3/results</td>\n",
       "      <td>2018</td>\n",
       "    </tr>\n",
       "    <tr>\n",
       "      <th>4</th>\n",
       "      <td>Flatz Open</td>\n",
       "      <td>Wolfurt, Austria</td>\n",
       "      <td>International Tournament</td>\n",
       "      <td>U17, U20, Seniors</td>\n",
       "      <td>FS, WW</td>\n",
       "      <td>https://uww.org/event/flatz-open-2/news</td>\n",
       "      <td>2018</td>\n",
       "    </tr>\n",
       "  </tbody>\n",
       "</table>\n",
       "</div>"
      ],
      "text/plain": [
       "  tournament_name             location                      type  \\\n",
       "0     Herman Kare     Kouvola, Finland  International Tournament   \n",
       "1   Ivan Poddubny    Krasnodar, Russia  International Tournament   \n",
       "2      Takhti Cup       Mahshahr, Iran            Ranking Series   \n",
       "3   Ivan Yariguin  Krasnoyarsk, Russia            Ranking Series   \n",
       "4      Flatz Open     Wolfurt, Austria  International Tournament   \n",
       "\n",
       "                 age   style                                      page_link  \\\n",
       "0            Seniors      GR       https://uww.org/event/herman-kare-1/news   \n",
       "1            Seniors      GR  https://uww.org/event/ivan-poddubny-1/results   \n",
       "2            Seniors      GR     https://uww.org/event/takhti-cup-3/results   \n",
       "3            Seniors  FS, WW  https://uww.org/event/ivan-yariguin-3/results   \n",
       "4  U17, U20, Seniors  FS, WW        https://uww.org/event/flatz-open-2/news   \n",
       "\n",
       "   year  \n",
       "0  2018  \n",
       "1  2018  \n",
       "2  2018  \n",
       "3  2018  \n",
       "4  2018  "
      ]
     },
     "execution_count": 3,
     "metadata": {},
     "output_type": "execute_result"
    }
   ],
   "source": [
    "data.head()"
   ]
  },
  {
   "cell_type": "code",
   "execution_count": 12,
   "id": "68caf7da",
   "metadata": {},
   "outputs": [],
   "source": [
    "filtered_df = data[data['page_link'].str.endswith('results')]\n"
   ]
  },
  {
   "cell_type": "code",
   "execution_count": 14,
   "id": "2c90449b",
   "metadata": {},
   "outputs": [],
   "source": [
    "filtered_df.to_excel('results.xlsx', index = False)"
   ]
  },
  {
   "cell_type": "code",
   "execution_count": null,
   "id": "431e6275",
   "metadata": {},
   "outputs": [],
   "source": []
  }
 ],
 "metadata": {
  "kernelspec": {
   "display_name": "Python 3 (ipykernel)",
   "language": "python",
   "name": "python3"
  },
  "language_info": {
   "codemirror_mode": {
    "name": "ipython",
    "version": 3
   },
   "file_extension": ".py",
   "mimetype": "text/x-python",
   "name": "python",
   "nbconvert_exporter": "python",
   "pygments_lexer": "ipython3",
   "version": "3.10.9"
  }
 },
 "nbformat": 4,
 "nbformat_minor": 5
}
